{
 "cells": [
  {
   "cell_type": "code",
   "execution_count": 1,
   "metadata": {},
   "outputs": [],
   "source": [
    "from sklearn.linear_model import LinearRegression\n",
    "import pandas as pd"
   ]
  },
  {
   "cell_type": "code",
   "execution_count": 2,
   "metadata": {},
   "outputs": [],
   "source": [
    "df = pd.read_csv(\"Z:\\\\7th sem\\\\Data analytics\\\\2.7.19\\\\master.csv\")"
   ]
  },
  {
   "cell_type": "code",
   "execution_count": 3,
   "metadata": {},
   "outputs": [
    {
     "data": {
      "text/plain": [
       "country               False\n",
       "year                  False\n",
       "sex                   False\n",
       "age                   False\n",
       "suicides_no           False\n",
       "population            False\n",
       "suicides/100k pop     False\n",
       "country-year          False\n",
       "HDI for year           True\n",
       " gdp_for_year ($)     False\n",
       "gdp_per_capita ($)    False\n",
       "generation            False\n",
       "dtype: bool"
      ]
     },
     "execution_count": 3,
     "metadata": {},
     "output_type": "execute_result"
    }
   ],
   "source": [
    "df.isnull().any()"
   ]
  },
  {
   "cell_type": "code",
   "execution_count": 4,
   "metadata": {},
   "outputs": [],
   "source": [
    "df.fillna(value=0,axis=1,inplace=True)"
   ]
  },
  {
   "cell_type": "code",
   "execution_count": 5,
   "metadata": {},
   "outputs": [
    {
     "data": {
      "text/plain": [
       "(27820, 12)"
      ]
     },
     "execution_count": 5,
     "metadata": {},
     "output_type": "execute_result"
    }
   ],
   "source": [
    "df.shape"
   ]
  },
  {
   "cell_type": "code",
   "execution_count": 6,
   "metadata": {},
   "outputs": [
    {
     "data": {
      "text/html": [
       "<div>\n",
       "<style scoped>\n",
       "    .dataframe tbody tr th:only-of-type {\n",
       "        vertical-align: middle;\n",
       "    }\n",
       "\n",
       "    .dataframe tbody tr th {\n",
       "        vertical-align: top;\n",
       "    }\n",
       "\n",
       "    .dataframe thead th {\n",
       "        text-align: right;\n",
       "    }\n",
       "</style>\n",
       "<table border=\"1\" class=\"dataframe\">\n",
       "  <thead>\n",
       "    <tr style=\"text-align: right;\">\n",
       "      <th></th>\n",
       "      <th>country</th>\n",
       "      <th>year</th>\n",
       "      <th>sex</th>\n",
       "      <th>age</th>\n",
       "      <th>suicides_no</th>\n",
       "      <th>population</th>\n",
       "      <th>suicides/100k pop</th>\n",
       "      <th>country-year</th>\n",
       "      <th>HDI for year</th>\n",
       "      <th>gdp_for_year ($)</th>\n",
       "      <th>gdp_per_capita ($)</th>\n",
       "      <th>generation</th>\n",
       "    </tr>\n",
       "  </thead>\n",
       "  <tbody>\n",
       "    <tr>\n",
       "      <th>27234</th>\n",
       "      <td>Uruguay</td>\n",
       "      <td>1986</td>\n",
       "      <td>male</td>\n",
       "      <td>35-54 years</td>\n",
       "      <td>45</td>\n",
       "      <td>338500</td>\n",
       "      <td>13.29</td>\n",
       "      <td>Uruguay1986</td>\n",
       "      <td>0.000</td>\n",
       "      <td>5,880,112,788</td>\n",
       "      <td>2132</td>\n",
       "      <td>Silent</td>\n",
       "    </tr>\n",
       "    <tr>\n",
       "      <th>12849</th>\n",
       "      <td>Italy</td>\n",
       "      <td>1990</td>\n",
       "      <td>male</td>\n",
       "      <td>55-74 years</td>\n",
       "      <td>980</td>\n",
       "      <td>5266600</td>\n",
       "      <td>18.61</td>\n",
       "      <td>Italy1990</td>\n",
       "      <td>0.766</td>\n",
       "      <td>1,177,326,294,441</td>\n",
       "      <td>21472</td>\n",
       "      <td>G.I. Generation</td>\n",
       "    </tr>\n",
       "    <tr>\n",
       "      <th>25891</th>\n",
       "      <td>Turkmenistan</td>\n",
       "      <td>2001</td>\n",
       "      <td>male</td>\n",
       "      <td>75+ years</td>\n",
       "      <td>3</td>\n",
       "      <td>18881</td>\n",
       "      <td>15.89</td>\n",
       "      <td>Turkmenistan2001</td>\n",
       "      <td>0.000</td>\n",
       "      <td>3,534,803,922</td>\n",
       "      <td>863</td>\n",
       "      <td>Silent</td>\n",
       "    </tr>\n",
       "    <tr>\n",
       "      <th>7701</th>\n",
       "      <td>Ecuador</td>\n",
       "      <td>1985</td>\n",
       "      <td>female</td>\n",
       "      <td>75+ years</td>\n",
       "      <td>2</td>\n",
       "      <td>49000</td>\n",
       "      <td>4.08</td>\n",
       "      <td>Ecuador1985</td>\n",
       "      <td>0.631</td>\n",
       "      <td>17,149,094,590</td>\n",
       "      <td>2238</td>\n",
       "      <td>G.I. Generation</td>\n",
       "    </tr>\n",
       "    <tr>\n",
       "      <th>13178</th>\n",
       "      <td>Jamaica</td>\n",
       "      <td>1986</td>\n",
       "      <td>female</td>\n",
       "      <td>75+ years</td>\n",
       "      <td>0</td>\n",
       "      <td>40712</td>\n",
       "      <td>0.00</td>\n",
       "      <td>Jamaica1986</td>\n",
       "      <td>0.000</td>\n",
       "      <td>2,754,566,176</td>\n",
       "      <td>1342</td>\n",
       "      <td>G.I. Generation</td>\n",
       "    </tr>\n",
       "  </tbody>\n",
       "</table>\n",
       "</div>"
      ],
      "text/plain": [
       "            country  year     sex          age  suicides_no  population  \\\n",
       "27234       Uruguay  1986    male  35-54 years           45      338500   \n",
       "12849         Italy  1990    male  55-74 years          980     5266600   \n",
       "25891  Turkmenistan  2001    male    75+ years            3       18881   \n",
       "7701        Ecuador  1985  female    75+ years            2       49000   \n",
       "13178       Jamaica  1986  female    75+ years            0       40712   \n",
       "\n",
       "       suicides/100k pop      country-year  HDI for year  gdp_for_year ($)   \\\n",
       "27234              13.29       Uruguay1986         0.000      5,880,112,788   \n",
       "12849              18.61         Italy1990         0.766  1,177,326,294,441   \n",
       "25891              15.89  Turkmenistan2001         0.000      3,534,803,922   \n",
       "7701                4.08       Ecuador1985         0.631     17,149,094,590   \n",
       "13178               0.00       Jamaica1986         0.000      2,754,566,176   \n",
       "\n",
       "       gdp_per_capita ($)       generation  \n",
       "27234                2132           Silent  \n",
       "12849               21472  G.I. Generation  \n",
       "25891                 863           Silent  \n",
       "7701                 2238  G.I. Generation  \n",
       "13178                1342  G.I. Generation  "
      ]
     },
     "execution_count": 6,
     "metadata": {},
     "output_type": "execute_result"
    }
   ],
   "source": [
    "from sklearn.model_selection import train_test_split \n",
    "train, test = train_test_split(df,test_size=0.30)\n",
    "train.head()"
   ]
  },
  {
   "cell_type": "code",
   "execution_count": 8,
   "metadata": {},
   "outputs": [],
   "source": [
    "from sklearn.linear_model import LogisticRegression\n",
    "X_train = train['population'].dropna().values.reshape((-1, 1))\n",
    "y_train = train['suicides/100k pop'].dropna()\n",
    "X_test = test['population'].dropna().values.reshape((-1, 1))\n",
    "y_test = test['suicides/100k pop'].dropna()"
   ]
  },
  {
   "cell_type": "code",
   "execution_count": 9,
   "metadata": {},
   "outputs": [
    {
     "data": {
      "text/plain": [
       "LinearRegression(copy_X=True, fit_intercept=True, n_jobs=1, normalize=False)"
      ]
     },
     "execution_count": 9,
     "metadata": {},
     "output_type": "execute_result"
    }
   ],
   "source": [
    "from sklearn import linear_model\n",
    "from sklearn import metrics \n",
    "lin = linear_model.LinearRegression()\n",
    "lin.fit(X_train, y_train)"
   ]
  },
  {
   "cell_type": "code",
   "execution_count": 11,
   "metadata": {},
   "outputs": [],
   "source": [
    "import matplotlib.pyplot as plt\n",
    "predictions = lin.predict(X_test)"
   ]
  },
  {
   "cell_type": "code",
   "execution_count": 12,
   "metadata": {},
   "outputs": [
    {
     "data": {
      "image/png": "[encoded data removed]",
      "text/plain": [
       "<Figure size 432x288 with 1 Axes>"
      ]
     },
     "metadata": {},
     "output_type": "display_data"
    }
   ],
   "source": [
    "plt.scatter(y_test,predictions)\n",
    "plt.xlabel(\"Exixsting\")\n",
    "plt.ylabel(\"predicted\")\n",
    "plt.show()"
   ]
  },
  {
   "cell_type": "code",
   "execution_count": null,
   "metadata": {},
   "outputs": [],
   "source": []
  }
 ],
 "metadata": {
  "kernelspec": {
   "display_name": "Python 3",
   "language": "python",
   "name": "python3"
  },
  "language_info": {
   "codemirror_mode": {
    "name": "ipython",
    "version": 3
   },
   "file_extension": ".py",
   "mimetype": "text/x-python",
   "name": "python",
   "nbconvert_exporter": "python",
   "pygments_lexer": "ipython3",
   "version": "3.6.5"
  }
 },
 "nbformat": 4,
 "nbformat_minor": 2
}
